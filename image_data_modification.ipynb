{
 "cells": [
  {
   "cell_type": "code",
   "execution_count": 1,
   "metadata": {},
   "outputs": [],
   "source": [
    "import os\n",
    "import pandas as pd\n",
    "import shutil"
   ]
  },
  {
   "cell_type": "code",
   "execution_count": 2,
   "metadata": {},
   "outputs": [
    {
     "data": {
      "text/html": [
       "<div>\n",
       "<style scoped>\n",
       "    .dataframe tbody tr th:only-of-type {\n",
       "        vertical-align: middle;\n",
       "    }\n",
       "\n",
       "    .dataframe tbody tr th {\n",
       "        vertical-align: top;\n",
       "    }\n",
       "\n",
       "    .dataframe thead th {\n",
       "        text-align: right;\n",
       "    }\n",
       "</style>\n",
       "<table border=\"1\" class=\"dataframe\">\n",
       "  <thead>\n",
       "    <tr style=\"text-align: right;\">\n",
       "      <th></th>\n",
       "      <th>images</th>\n",
       "      <th>label</th>\n",
       "    </tr>\n",
       "  </thead>\n",
       "  <tbody>\n",
       "    <tr>\n",
       "      <th>0</th>\n",
       "      <td>salmo.1558.jpg</td>\n",
       "      <td>Salmonella</td>\n",
       "    </tr>\n",
       "    <tr>\n",
       "      <th>1</th>\n",
       "      <td>cocci.1866.jpg</td>\n",
       "      <td>Coccidiosis</td>\n",
       "    </tr>\n",
       "    <tr>\n",
       "      <th>2</th>\n",
       "      <td>cocci.171.jpg</td>\n",
       "      <td>Coccidiosis</td>\n",
       "    </tr>\n",
       "    <tr>\n",
       "      <th>3</th>\n",
       "      <td>salmo.1484.jpg</td>\n",
       "      <td>Salmonella</td>\n",
       "    </tr>\n",
       "    <tr>\n",
       "      <th>4</th>\n",
       "      <td>ncd.100.jpg</td>\n",
       "      <td>New Castle Disease</td>\n",
       "    </tr>\n",
       "  </tbody>\n",
       "</table>\n",
       "</div>"
      ],
      "text/plain": [
       "           images               label\n",
       "0  salmo.1558.jpg          Salmonella\n",
       "1  cocci.1866.jpg         Coccidiosis\n",
       "2   cocci.171.jpg         Coccidiosis\n",
       "3  salmo.1484.jpg          Salmonella\n",
       "4     ncd.100.jpg  New Castle Disease"
      ]
     },
     "execution_count": 2,
     "metadata": {},
     "output_type": "execute_result"
    }
   ],
   "source": [
    "image_df = pd.read_csv('train_data.csv')\n",
    "image_df.head()"
   ]
  },
  {
   "cell_type": "code",
   "execution_count": 3,
   "metadata": {},
   "outputs": [
    {
     "data": {
      "text/plain": [
       "array(['Salmonella', 'Coccidiosis', 'New Castle Disease', 'Healthy'],\n",
       "      dtype=object)"
      ]
     },
     "execution_count": 3,
     "metadata": {},
     "output_type": "execute_result"
    }
   ],
   "source": [
    "labels = image_df.label.unique()\n",
    "labels"
   ]
  },
  {
   "cell_type": "code",
   "execution_count": 4,
   "metadata": {},
   "outputs": [],
   "source": [
    "# get lsit of images per class\n",
    "salmonella_images = image_df[image_df['label'] == 'Salmonella']['images'].tolist()\n",
    "coccidiosis_images = image_df[image_df['label'] == 'Coccidiosis']['images'].tolist()\n",
    "new_castle_images = image_df[image_df['label'] == 'New Castle Disease']['images'].tolist()\n",
    "healthy_images = image_df[image_df['label'] == 'Healthy']['images'].tolist()"
   ]
  },
  {
   "cell_type": "code",
   "execution_count": 6,
   "metadata": {},
   "outputs": [],
   "source": [
    "# loop through target labels and create a new folder for each label\n",
    "datasets = ['train', 'val']\n",
    "parent_dir = 'Chicken_Disease_Dataset'\n",
    "80_percent = 0.8\n",
    "for label in labels:\n",
    "    for dataset in datasets:\n",
    "        path = os.path.join(parent_dir, dataset, label)\n",
    "        if not os.path.exists(path):\n",
    "            os.makedirs(path)\n",
    "            \n",
    "# copy images fom all_images dir and take 80% of images to data/train/(label) and 20% to data/val/(label) folders\n",
    "\n",
    "# copy image from old_path to new_path\n",
    "def copy_images(old_path, new_path, image_list):\n",
    "    for image in image_list:\n",
    "        old_image_path = os.path.join(old_path, image)\n",
    "        new_image_path = os.path.join(new_path, image)\n",
    "        shutil.copyfile(old_image_path, new_image_path)\n",
    "        \n",
    "# take first 80% of salmonella_images\n",
    "salmonella_train = salmonella_images[:int(len(salmonella_images)*80_percent)]\n",
    "salmonella_val = salmonella_images[int(len(salmonella_images)*80_percent):]\n",
    "\n",
    "copy_images('all_images', parent_dir + os.sep + datasets[0] + os.sep + labels[0], salmonella_train)\n",
    "copy_images('all_images', parent_dir + os.sep + datasets[1] + os.sep + labels[0], salmonella_val)\n",
    "\n",
    "# take first 80% of coccodiosis_images\n",
    "coccidiosis_train = coccidiosis_images[:int(len(coccidiosis_images)*80_percent)]\n",
    "# take last 20% of coccodiosis_images\n",
    "coccidiosis_val = coccidiosis_images[int(len(coccidiosis_images)*80_percent):]\n",
    "        \n",
    "copy_images('all_images', parent_dir + os.sep + datasets[0] + os.sep + labels[1], coccidiosis_train)\n",
    "copy_images('all_images', parent_dir + os.sep + datasets[1] + os.sep + labels[1], coccidiosis_val)\n",
    "\n",
    "# take first 80% of new_castle_images\n",
    "new_castle_train = new_castle_images[:int(len(new_castle_images)*80_percent)]\n",
    "new_castle_val = new_castle_images[int(len(new_castle_images)*80_percent):]\n",
    "\n",
    "copy_images('all_images', parent_dir + os.sep + datasets[0] + os.sep + labels[2], new_castle_train)\n",
    "copy_images('all_images', parent_dir + os.sep + datasets[1] + os.sep + labels[2], new_castle_val)\n",
    "\n",
    "#take first 80% of healthy_images\n",
    "healthy_train = healthy_images[:int(len(healthy_images)*80_percent)]\n",
    "healthy_val = healthy_images[int(len(healthy_images)*80_percent):]\n",
    "\n",
    "copy_images('all_images', parent_dir + os.sep + datasets[0] + os.sep + labels[3], healthy_train)\n",
    "copy_images('all_images', parent_dir + os.sep + datasets[1] + os.sep + labels[3], healthy_val)"
   ]
  }
 ],
 "metadata": {
  "kernelspec": {
   "display_name": "base",
   "language": "python",
   "name": "python3"
  },
  "language_info": {
   "codemirror_mode": {
    "name": "ipython",
    "version": 3
   },
   "file_extension": ".py",
   "mimetype": "text/x-python",
   "name": "python",
   "nbconvert_exporter": "python",
   "pygments_lexer": "ipython3",
   "version": "3.9.16"
  },
  "orig_nbformat": 4
 },
 "nbformat": 4,
 "nbformat_minor": 2
}
